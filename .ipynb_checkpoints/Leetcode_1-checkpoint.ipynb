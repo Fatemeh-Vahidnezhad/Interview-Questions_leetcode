{
 "cells": [
  {
   "cell_type": "markdown",
   "id": "1c5a606b",
   "metadata": {},
   "source": [
    "finding a str in other str:"
   ]
  },
  {
   "cell_type": "code",
   "execution_count": 40,
   "id": "782155d0",
   "metadata": {},
   "outputs": [
    {
     "name": "stdout",
     "output_type": "stream",
     "text": [
      "2\n"
     ]
    }
   ],
   "source": [
    "#solution1:\n",
    "\n",
    "a = 'fatemeh'\n",
    "b = 'tem'\n",
    "print(a.find(b))"
   ]
  },
  {
   "cell_type": "code",
   "execution_count": 33,
   "id": "a904263e",
   "metadata": {},
   "outputs": [
    {
     "data": {
      "text/plain": [
       "-1"
      ]
     },
     "execution_count": 33,
     "metadata": {},
     "output_type": "execute_result"
    }
   ],
   "source": [
    "#solution2:\n",
    "\n",
    "def strstr(a,b):\n",
    "    if b == '':\n",
    "        return 0\n",
    "    elif b in a:\n",
    "        print(a.index(b))\n",
    "    else:\n",
    "        return -1\n",
    "            \n",
    "strstr(a,b)"
   ]
  },
  {
   "cell_type": "code",
   "execution_count": 55,
   "id": "e0437a22",
   "metadata": {},
   "outputs": [
    {
     "data": {
      "text/plain": [
       "4"
      ]
     },
     "execution_count": 55,
     "metadata": {},
     "output_type": "execute_result"
    }
   ],
   "source": [
    "#solution3:\n",
    "\n",
    "a = 'fatemeh'\n",
    "b = 'meh'\n",
    "def strstr2(a,b):\n",
    "    \n",
    "    if b == '':\n",
    "        return 0\n",
    "    for i in range(len(a)):\n",
    "        if a[i:i+len(b)] == b:\n",
    "            return i\n",
    "    return -1\n",
    "strstr2(a,b) "
   ]
  },
  {
   "cell_type": "markdown",
   "id": "478b384c",
   "metadata": {},
   "source": [
    "is Palindrome?"
   ]
  },
  {
   "cell_type": "code",
   "execution_count": 99,
   "id": "a4676f20",
   "metadata": {},
   "outputs": [
    {
     "data": {
      "text/plain": [
       "'polindrome'"
      ]
     },
     "execution_count": 99,
     "metadata": {},
     "output_type": "execute_result"
    }
   ],
   "source": [
    "def is_Palindrome(a):\n",
    "    j = len(a)\n",
    "    i = 0\n",
    "    while i< j:\n",
    "#         print('i',i)\n",
    "#         print('j',j)\n",
    "#         print(a[i], a[j-1])\n",
    "        if a[i].lower() != a[j-1].lower():\n",
    "            return 'it is not a polindrome word!'\n",
    "        i += 1\n",
    "        j -= 1\n",
    "    return 'polindrome'           \n",
    "            \n",
    "is_Palindrome('radar')"
   ]
  },
  {
   "cell_type": "code",
   "execution_count": 103,
   "id": "e85ef869",
   "metadata": {},
   "outputs": [
    {
     "data": {
      "text/plain": [
       "False"
      ]
     },
     "execution_count": 103,
     "metadata": {},
     "output_type": "execute_result"
    }
   ],
   "source": [
    "a = 'a'\n",
    "a.isalnum()\n",
    "\n",
    "b= '?+_all'\n",
    "b.isalnum()"
   ]
  },
  {
   "cell_type": "code",
   "execution_count": 4,
   "id": "0bcf3239",
   "metadata": {},
   "outputs": [],
   "source": [
    "def is_Palindrome2(a):\n",
    "    j = len(a)\n",
    "    i = 0\n",
    "    while i< j:\n",
    "        while i < j and not a[i].isalnum():\n",
    "            i += 1\n",
    "            \n",
    "        while i<j and not a[j-1].isalnum():\n",
    "            j -= 1\n",
    "            \n",
    "        if a[i].lower() != a[j-1].lower():\n",
    "            return 'it is not a polindrome word!'\n",
    "        \n",
    "        i += 1\n",
    "        j -= 1\n",
    "    return 'polindrome'           \n",
    "            \n"
   ]
  },
  {
   "cell_type": "code",
   "execution_count": 6,
   "id": "d625d483",
   "metadata": {},
   "outputs": [
    {
     "data": {
      "text/plain": [
       "'polindrome'"
      ]
     },
     "execution_count": 6,
     "metadata": {},
     "output_type": "execute_result"
    }
   ],
   "source": [
    "is_Palindrome2('##r****ad ar@')"
   ]
  },
  {
   "cell_type": "code",
   "execution_count": 8,
   "id": "2c9bc372",
   "metadata": {},
   "outputs": [
    {
     "data": {
      "text/plain": [
       "66"
      ]
     },
     "execution_count": 8,
     "metadata": {},
     "output_type": "execute_result"
    }
   ],
   "source": [
    "ord(\"B\")"
   ]
  },
  {
   "cell_type": "code",
   "execution_count": 14,
   "id": "38544b21",
   "metadata": {},
   "outputs": [
    {
     "data": {
      "text/plain": [
       "'B'"
      ]
     },
     "execution_count": 14,
     "metadata": {},
     "output_type": "execute_result"
    }
   ],
   "source": [
    "chr(66)"
   ]
  },
  {
   "cell_type": "code",
   "execution_count": 23,
   "id": "348f570d",
   "metadata": {},
   "outputs": [
    {
     "name": "stdout",
     "output_type": "stream",
     "text": [
      "81\n"
     ]
    }
   ],
   "source": [
    "print((26*(ord('C')-ord('A')+1))+((ord('C')-ord('A')+1)))"
   ]
  },
  {
   "cell_type": "code",
   "execution_count": 22,
   "id": "4b28f530",
   "metadata": {},
   "outputs": [
    {
     "data": {
      "text/plain": [
       "78"
      ]
     },
     "execution_count": 22,
     "metadata": {},
     "output_type": "execute_result"
    }
   ],
   "source": [
    "3*26"
   ]
  },
  {
   "cell_type": "markdown",
   "id": "2452306e",
   "metadata": {},
   "source": [
    "Excel sheet column number"
   ]
  },
  {
   "cell_type": "code",
   "execution_count": null,
   "id": "79fbbe1c",
   "metadata": {},
   "outputs": [],
   "source": [
    "A: 0*26+1  ---> ord(A)-ord(A)+1 = 1\n",
    "B: 2       --->ord(B)-ord(A) + 1 = 2\n",
    ".\n",
    ".\n",
    "Z: 26\n",
    "AA: 1*26 + 1\n",
    "AB: 28\n",
    "AC: 29\n",
    ".\n",
    ".\n",
    ".\n",
    "ZZ: 26*26 +26           --> 26 * (ord(Z)-ord(A) + 1) + (ord(Z)-ord(A) + 1)\n",
    "AAA: 26*26 +1*26 + 1    --> (26* قبلی) + نمره سومی\n",
    "    26 * ( 26 * (ord(B)-ord(A) + 1) + (ord(B)-ord(A) + 1)) + (ord(Aسومی)-ord(A) + 1)\n",
    " "
   ]
  },
  {
   "cell_type": "code",
   "execution_count": 27,
   "id": "ec6f1052",
   "metadata": {},
   "outputs": [
    {
     "name": "stdout",
     "output_type": "stream",
     "text": [
      "703\n"
     ]
    }
   ],
   "source": [
    "def titletoNumber(s):\n",
    "    result = 0\n",
    "    n = len(s)\n",
    "    for i in range(n):\n",
    "        result = 26 * result\n",
    "        result += (ord(s[i])-ord('A') + 1)\n",
    "    return result\n",
    "print(titletoNumber('AAA'))"
   ]
  },
  {
   "cell_type": "markdown",
   "id": "dbd31356",
   "metadata": {},
   "source": [
    "Anagram"
   ]
  },
  {
   "cell_type": "markdown",
   "id": "5476a79e",
   "metadata": {},
   "source": [
    "s = 'listen'\n",
    "t = 'silent'\n",
    "every charactor in s can find in t"
   ]
  },
  {
   "cell_type": "code",
   "execution_count": 52,
   "id": "723827b2",
   "metadata": {},
   "outputs": [
    {
     "data": {
      "text/plain": [
       "'Anagram'"
      ]
     },
     "execution_count": 52,
     "metadata": {},
     "output_type": "execute_result"
    }
   ],
   "source": [
    "def anagram(s,t):\n",
    "    if len(s)== len(t):\n",
    "        for i in range(len(s)):\n",
    "            if s[i].lower() not in t.lower():\n",
    "                return False\n",
    "        return 'Anagram'\n",
    "    return 'The number of strings are not equal!'\n",
    "s = 'LISTEN'\n",
    "t = 'silent'\n",
    "anagram(s,t)"
   ]
  },
  {
   "cell_type": "code",
   "execution_count": 40,
   "id": "f9d76ff6",
   "metadata": {},
   "outputs": [
    {
     "data": {
      "text/plain": [
       "['e', 'i', 'l', 'n', 's', 't']"
      ]
     },
     "execution_count": 40,
     "metadata": {},
     "output_type": "execute_result"
    }
   ],
   "source": [
    "sorted(t)"
   ]
  },
  {
   "cell_type": "code",
   "execution_count": 53,
   "id": "b986ec21",
   "metadata": {},
   "outputs": [
    {
     "data": {
      "text/plain": [
       "True"
      ]
     },
     "execution_count": 53,
     "metadata": {},
     "output_type": "execute_result"
    }
   ],
   "source": [
    "def anagram2(s,t):\n",
    "    if len(s) != len(t):\n",
    "        return False\n",
    "    return sorted(s.lower()) == sorted(t.lower())\n",
    "s = 'LISTEN'\n",
    "t = 'silent'\n",
    "anagram2(s,t)"
   ]
  },
  {
   "cell_type": "code",
   "execution_count": null,
   "id": "b23665aa",
   "metadata": {},
   "outputs": [],
   "source": []
  }
 ],
 "metadata": {
  "kernelspec": {
   "display_name": "Python 3 (ipykernel)",
   "language": "python",
   "name": "python3"
  },
  "language_info": {
   "codemirror_mode": {
    "name": "ipython",
    "version": 3
   },
   "file_extension": ".py",
   "mimetype": "text/x-python",
   "name": "python",
   "nbconvert_exporter": "python",
   "pygments_lexer": "ipython3",
   "version": "3.10.6"
  }
 },
 "nbformat": 4,
 "nbformat_minor": 5
}
