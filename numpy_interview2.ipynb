{
 "cells": [
  {
   "cell_type": "code",
   "execution_count": 1,
   "id": "589dc6ce",
   "metadata": {},
   "outputs": [],
   "source": [
    "import numpy as np"
   ]
  },
  {
   "cell_type": "code",
   "execution_count": 5,
   "id": "ce042d5b",
   "metadata": {},
   "outputs": [],
   "source": [
    "arr = np.array([1,1,2,0,3,3,1,4,4,4,55,4,1,0,0,1])"
   ]
  },
  {
   "cell_type": "markdown",
   "id": "3bb1073b",
   "metadata": {},
   "source": [
    "count the frequency of a members in an array"
   ]
  },
  {
   "cell_type": "code",
   "execution_count": 7,
   "id": "159238b5",
   "metadata": {},
   "outputs": [
    {
     "data": {
      "text/plain": [
       "array([3, 5, 1, 2, 4, 0, 0, 0, 0, 0, 0, 0, 0, 0, 0, 0, 0, 0, 0, 0, 0, 0,\n",
       "       0, 0, 0, 0, 0, 0, 0, 0, 0, 0, 0, 0, 0, 0, 0, 0, 0, 0, 0, 0, 0, 0,\n",
       "       0, 0, 0, 0, 0, 0, 0, 0, 0, 0, 0, 1], dtype=int64)"
      ]
     },
     "execution_count": 7,
     "metadata": {},
     "output_type": "execute_result"
    }
   ],
   "source": [
    "np.bincount(arr)"
   ]
  },
  {
   "cell_type": "code",
   "execution_count": 8,
   "id": "33186398",
   "metadata": {},
   "outputs": [
    {
     "data": {
      "text/plain": [
       "(16,)"
      ]
     },
     "execution_count": 8,
     "metadata": {},
     "output_type": "execute_result"
    }
   ],
   "source": [
    "arr.shape"
   ]
  },
  {
   "cell_type": "code",
   "execution_count": 12,
   "id": "57308db6",
   "metadata": {},
   "outputs": [
    {
     "data": {
      "text/plain": [
       "array([[[ 1,  1,  2,  0],\n",
       "        [ 3,  3,  1,  4]],\n",
       "\n",
       "       [[ 4,  4, 55,  4],\n",
       "        [ 1,  0,  0,  1]]])"
      ]
     },
     "execution_count": 12,
     "metadata": {},
     "output_type": "execute_result"
    }
   ],
   "source": [
    "arr1 = arr.reshape((2,2,4))\n",
    "arr1"
   ]
  },
  {
   "cell_type": "code",
   "execution_count": 16,
   "id": "33acded6",
   "metadata": {},
   "outputs": [
    {
     "data": {
      "text/plain": [
       "array([[3, 3, 1, 4],\n",
       "       [1, 0, 0, 1]])"
      ]
     },
     "execution_count": 16,
     "metadata": {},
     "output_type": "execute_result"
    }
   ],
   "source": [
    "arr1[:,1]"
   ]
  },
  {
   "cell_type": "code",
   "execution_count": 19,
   "id": "2f71324b",
   "metadata": {},
   "outputs": [
    {
     "data": {
      "text/plain": [
       "array([[[3, 3, 1, 4]],\n",
       "\n",
       "       [[1, 0, 0, 1]]])"
      ]
     },
     "execution_count": 19,
     "metadata": {},
     "output_type": "execute_result"
    }
   ],
   "source": [
    "arr1[:,[1]]"
   ]
  },
  {
   "cell_type": "markdown",
   "id": "9ecafacb",
   "metadata": {},
   "source": [
    "concatenate"
   ]
  },
  {
   "cell_type": "code",
   "execution_count": 27,
   "id": "3c0a7089",
   "metadata": {},
   "outputs": [
    {
     "data": {
      "text/plain": [
       "array([[ 1,  1,  2,  0,  4,  4, 55,  4],\n",
       "       [ 3,  3,  1,  4,  1,  0,  0,  1]])"
      ]
     },
     "execution_count": 27,
     "metadata": {},
     "output_type": "execute_result"
    }
   ],
   "source": [
    "np.concatenate((arr1[0], arr1[1]),axis = 1)"
   ]
  },
  {
   "cell_type": "code",
   "execution_count": 28,
   "id": "d1619e32",
   "metadata": {},
   "outputs": [
    {
     "data": {
      "text/plain": [
       "array([[ 1,  1,  2,  0],\n",
       "       [ 3,  3,  1,  4],\n",
       "       [ 4,  4, 55,  4],\n",
       "       [ 1,  0,  0,  1]])"
      ]
     },
     "execution_count": 28,
     "metadata": {},
     "output_type": "execute_result"
    }
   ],
   "source": [
    "np.concatenate((arr1[0], arr1[1]),axis = 0)"
   ]
  },
  {
   "cell_type": "markdown",
   "id": "033d10e9",
   "metadata": {},
   "source": [
    "Vectorization"
   ]
  },
  {
   "cell_type": "code",
   "execution_count": 32,
   "id": "d419568e",
   "metadata": {},
   "outputs": [
    {
     "data": {
      "text/plain": [
       "array([[ 5,  5, 57,  4],\n",
       "       [ 4,  3,  1,  5]])"
      ]
     },
     "execution_count": 32,
     "metadata": {},
     "output_type": "execute_result"
    }
   ],
   "source": [
    "def add(arr1, arr2):\n",
    "    return arr1 + arr2\n",
    "\n",
    "result = np.vectorize(add)\n",
    "result(arr1[0],arr1[1])"
   ]
  },
  {
   "cell_type": "raw",
   "id": "b0c4a720",
   "metadata": {},
   "source": []
  },
  {
   "cell_type": "code",
   "execution_count": 38,
   "id": "2f9c1b40",
   "metadata": {},
   "outputs": [
    {
     "data": {
      "text/plain": [
       "array([[ 1],\n",
       "       [ 1],\n",
       "       [ 2],\n",
       "       [ 0],\n",
       "       [ 3],\n",
       "       [ 3],\n",
       "       [ 1],\n",
       "       [ 4],\n",
       "       [ 4],\n",
       "       [ 4],\n",
       "       [55],\n",
       "       [ 4],\n",
       "       [ 1],\n",
       "       [ 0],\n",
       "       [ 0],\n",
       "       [ 1]])"
      ]
     },
     "execution_count": 38,
     "metadata": {},
     "output_type": "execute_result"
    }
   ],
   "source": [
    "np.vstack(arr)"
   ]
  },
  {
   "cell_type": "code",
   "execution_count": 39,
   "id": "b781b169",
   "metadata": {},
   "outputs": [
    {
     "data": {
      "text/plain": [
       "[array([1, 1, 2, 0, 3, 3, 1, 4]), array([ 4,  4, 55,  4,  1,  0,  0,  1])]"
      ]
     },
     "execution_count": 39,
     "metadata": {},
     "output_type": "execute_result"
    }
   ],
   "source": [
    "np.split(arr,2)"
   ]
  },
  {
   "cell_type": "markdown",
   "id": "3a2e6150",
   "metadata": {},
   "source": [
    "string"
   ]
  },
  {
   "cell_type": "code",
   "execution_count": 50,
   "id": "adc9cdf4",
   "metadata": {},
   "outputs": [],
   "source": [
    "arra = np.array(['ali','haMID','Saied','Setare'])"
   ]
  },
  {
   "cell_type": "code",
   "execution_count": 51,
   "id": "7763b6ad",
   "metadata": {},
   "outputs": [
    {
     "data": {
      "text/plain": [
       "array(['ALI', 'HAMID', 'SAIED', 'SETARE'], dtype='<U6')"
      ]
     },
     "execution_count": 51,
     "metadata": {},
     "output_type": "execute_result"
    }
   ],
   "source": [
    "np.char.upper(arra)"
   ]
  },
  {
   "cell_type": "code",
   "execution_count": 52,
   "id": "9ba45d5a",
   "metadata": {},
   "outputs": [
    {
     "data": {
      "text/plain": [
       "array(['ali', 'hamid', 'saied', 'setare'], dtype='<U6')"
      ]
     },
     "execution_count": 52,
     "metadata": {},
     "output_type": "execute_result"
    }
   ],
   "source": [
    "np.char.lower(arra)"
   ]
  },
  {
   "cell_type": "code",
   "execution_count": 53,
   "id": "d0d8022f",
   "metadata": {},
   "outputs": [
    {
     "data": {
      "text/plain": [
       "array(['ALI', 'HAmid', 'sAIED', 'sETARE'], dtype='<U6')"
      ]
     },
     "execution_count": 53,
     "metadata": {},
     "output_type": "execute_result"
    }
   ],
   "source": [
    "np.char.swapcase(arra)"
   ]
  },
  {
   "cell_type": "code",
   "execution_count": 55,
   "id": "726f2dd7",
   "metadata": {},
   "outputs": [
    {
     "data": {
      "text/plain": [
       "array(['Ali', 'Hamid', 'Saied', 'Setare'], dtype='<U6')"
      ]
     },
     "execution_count": 55,
     "metadata": {},
     "output_type": "execute_result"
    }
   ],
   "source": [
    "np.char.title(arra)"
   ]
  },
  {
   "cell_type": "code",
   "execution_count": 56,
   "id": "7ed9645f",
   "metadata": {},
   "outputs": [
    {
     "data": {
      "text/plain": [
       "array(['Ali', 'Hamid', 'Saied', 'Setare'], dtype='<U6')"
      ]
     },
     "execution_count": 56,
     "metadata": {},
     "output_type": "execute_result"
    }
   ],
   "source": [
    "np.char.capitalize(arra)"
   ]
  },
  {
   "cell_type": "markdown",
   "id": "7e6af02f",
   "metadata": {},
   "source": [
    "اضافه کردن صفر پشت عدد"
   ]
  },
  {
   "cell_type": "code",
   "execution_count": 64,
   "id": "2bcb7ba2",
   "metadata": {},
   "outputs": [],
   "source": [
    "array = np.array(['1','12','345', '654'])"
   ]
  },
  {
   "cell_type": "code",
   "execution_count": 65,
   "id": "22ba92e9",
   "metadata": {},
   "outputs": [
    {
     "data": {
      "text/plain": [
       "array(['0001', '0012', '0345', '0654'], dtype='<U4')"
      ]
     },
     "execution_count": 65,
     "metadata": {},
     "output_type": "execute_result"
    }
   ],
   "source": [
    "np.char.zfill(array,4)"
   ]
  },
  {
   "cell_type": "code",
   "execution_count": 69,
   "id": "73d2a125",
   "metadata": {},
   "outputs": [
    {
     "data": {
      "text/plain": [
       "array(['1', '1 2', '3 4 5', '6 5 4'], dtype='<U5')"
      ]
     },
     "execution_count": 69,
     "metadata": {},
     "output_type": "execute_result"
    }
   ],
   "source": [
    "np.char.join(\" \",array)"
   ]
  },
  {
   "cell_type": "code",
   "execution_count": 68,
   "id": "f810e11c",
   "metadata": {},
   "outputs": [
    {
     "data": {
      "text/plain": [
       "array(['11', '1212', '345345', '654654'], dtype='<U6')"
      ]
     },
     "execution_count": 68,
     "metadata": {},
     "output_type": "execute_result"
    }
   ],
   "source": [
    "np.char.multiply(array,2)"
   ]
  },
  {
   "cell_type": "code",
   "execution_count": 71,
   "id": "7413fc81",
   "metadata": {},
   "outputs": [
    {
     "data": {
      "text/plain": [
       "array([10, 11, 12, 13, 14, 15, 16, 17, 18, 19, 20, 21, 22, 23, 24, 25, 26,\n",
       "       27, 28, 29, 30, 31, 32, 33, 34, 35, 36, 37, 38, 39, 40, 41, 42, 43,\n",
       "       44, 45, 46, 47, 48, 49])"
      ]
     },
     "execution_count": 71,
     "metadata": {},
     "output_type": "execute_result"
    }
   ],
   "source": [
    "np.arange(10,50)"
   ]
  },
  {
   "cell_type": "markdown",
   "id": "38308787",
   "metadata": {},
   "source": [
    "pad"
   ]
  },
  {
   "cell_type": "code",
   "execution_count": 73,
   "id": "385551d5",
   "metadata": {},
   "outputs": [
    {
     "data": {
      "text/plain": [
       "array([[1., 1., 1., 1.],\n",
       "       [1., 1., 1., 1.],\n",
       "       [1., 1., 1., 1.]])"
      ]
     },
     "execution_count": 73,
     "metadata": {},
     "output_type": "execute_result"
    }
   ],
   "source": [
    "one = np.ones((3,4))\n",
    "one"
   ]
  },
  {
   "cell_type": "code",
   "execution_count": 77,
   "id": "0244a39f",
   "metadata": {},
   "outputs": [
    {
     "data": {
      "text/plain": [
       "array([[0., 0., 0., 0., 0., 0., 0., 0.],\n",
       "       [0., 0., 0., 0., 0., 0., 0., 0.],\n",
       "       [0., 0., 1., 1., 1., 1., 0., 0.],\n",
       "       [0., 0., 1., 1., 1., 1., 0., 0.],\n",
       "       [0., 0., 1., 1., 1., 1., 0., 0.],\n",
       "       [0., 0., 0., 0., 0., 0., 0., 0.],\n",
       "       [0., 0., 0., 0., 0., 0., 0., 0.]])"
      ]
     },
     "execution_count": 77,
     "metadata": {},
     "output_type": "execute_result"
    }
   ],
   "source": [
    "np.pad(one,constant_values = 0, pad_width = 2)"
   ]
  },
  {
   "cell_type": "code",
   "execution_count": 79,
   "id": "b954fa3c",
   "metadata": {},
   "outputs": [
    {
     "data": {
      "text/plain": [
       "12"
      ]
     },
     "execution_count": 79,
     "metadata": {},
     "output_type": "execute_result"
    }
   ],
   "source": [
    "#it returns size of integer or string in the array:\n",
    "array.itemsize"
   ]
  },
  {
   "cell_type": "code",
   "execution_count": null,
   "id": "fbd91865",
   "metadata": {},
   "outputs": [],
   "source": []
  },
  {
   "cell_type": "code",
   "execution_count": null,
   "id": "fdcd7f24",
   "metadata": {},
   "outputs": [],
   "source": []
  }
 ],
 "metadata": {
  "kernelspec": {
   "display_name": "Python 3 (ipykernel)",
   "language": "python",
   "name": "python3"
  },
  "language_info": {
   "codemirror_mode": {
    "name": "ipython",
    "version": 3
   },
   "file_extension": ".py",
   "mimetype": "text/x-python",
   "name": "python",
   "nbconvert_exporter": "python",
   "pygments_lexer": "ipython3",
   "version": "3.10.6"
  }
 },
 "nbformat": 4,
 "nbformat_minor": 5
}
