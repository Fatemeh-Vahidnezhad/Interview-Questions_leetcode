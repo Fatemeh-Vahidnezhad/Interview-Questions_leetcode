{
 "cells": [
  {
   "cell_type": "markdown",
   "id": "2818c632",
   "metadata": {},
   "source": [
    "Remove Digit"
   ]
  },
  {
   "cell_type": "code",
   "execution_count": 84,
   "id": "0f4fe6f8",
   "metadata": {},
   "outputs": [
    {
     "name": "stdout",
     "output_type": "stream",
     "text": [
      "452931239873\n",
      "452391239873\n",
      "452393129873\n",
      "452393123987\n",
      "list: ['452391239873', '452393123987', '452393129873', '452931239873']\n",
      "the biger number is: 452931239873\n"
     ]
    }
   ],
   "source": [
    "x = '4523931239873'\n",
    "y = '3'\n",
    "lst = []\n",
    "for i in range(1, len(x)):\n",
    "    if x[i]== y:\n",
    "        result = x[:i] + x[i+1:]\n",
    "        print(result)\n",
    "        lst.append(result)\n",
    "print('list:', sorted(lst))\n",
    "\n",
    "print('the biger number is:', sorted(lst).pop())\n"
   ]
  },
  {
   "cell_type": "code",
   "execution_count": 89,
   "id": "aa5e43ab",
   "metadata": {},
   "outputs": [
    {
     "name": "stdout",
     "output_type": "stream",
     "text": [
      "452931239873\n",
      "452931239873\n"
     ]
    }
   ],
   "source": [
    "# the last item of the list:\n",
    "print(sorted(lst)[-1])\n",
    "# or\n",
    "print(sorted(lst).pop())"
   ]
  }
 ],
 "metadata": {
  "kernelspec": {
   "display_name": "Python 3 (ipykernel)",
   "language": "python",
   "name": "python3"
  },
  "language_info": {
   "codemirror_mode": {
    "name": "ipython",
    "version": 3
   },
   "file_extension": ".py",
   "mimetype": "text/x-python",
   "name": "python",
   "nbconvert_exporter": "python",
   "pygments_lexer": "ipython3",
   "version": "3.10.6"
  }
 },
 "nbformat": 4,
 "nbformat_minor": 5
}
